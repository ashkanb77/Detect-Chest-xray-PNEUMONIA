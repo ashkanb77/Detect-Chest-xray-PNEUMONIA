{
  "nbformat": 4,
  "nbformat_minor": 0,
  "metadata": {
    "colab": {
      "name": "Chest-xray.ipynb",
      "provenance": [],
      "collapsed_sections": [],
      "authorship_tag": "ABX9TyNePf0NYUDFcZQN+qqxwhHF",
      "include_colab_link": true
    },
    "kernelspec": {
      "name": "python3",
      "display_name": "Python 3"
    },
    "language_info": {
      "name": "python"
    },
    "accelerator": "GPU"
  },
  "cells": [
    {
      "cell_type": "markdown",
      "metadata": {
        "id": "view-in-github",
        "colab_type": "text"
      },
      "source": [
        "<a href=\"https://colab.research.google.com/github/ashkanb77/Detect-Chest-xray-PNEUMONIA/blob/main/Chest_xray.ipynb\" target=\"_parent\"><img src=\"https://colab.research.google.com/assets/colab-badge.svg\" alt=\"Open In Colab\"/></a>"
      ]
    },
    {
      "cell_type": "code",
      "execution_count": null,
      "metadata": {
        "colab": {
          "base_uri": "https://localhost:8080/"
        },
        "id": "j-Z6wZE-LH8K",
        "outputId": "5ac43094-0865-4f39-923a-e65159ebda19"
      },
      "outputs": [
        {
          "output_type": "stream",
          "name": "stdout",
          "text": [
            "mkdir: cannot create directory ‘/root/.kaggle’: File exists\n",
            "Downloading chest-xray-pneumonia.zip to /content\n",
            " 99% 2.28G/2.29G [00:26<00:00, 122MB/s]\n",
            "100% 2.29G/2.29G [00:26<00:00, 91.4MB/s]\n"
          ]
        }
      ],
      "source": [
        "! mkdir ~/.kaggle\n",
        "! cp kaggle.json ~/.kaggle/\n",
        "! chmod 600 ~/.kaggle/kaggle.json\n",
        "! kaggle datasets download -d paultimothymooney/chest-xray-pneumonia"
      ]
    },
    {
      "cell_type": "code",
      "source": [
        "import zipfile\n",
        "\n",
        "zipfile.ZipFile('chest-xray-pneumonia.zip').extractall('')\n",
        "\n"
      ],
      "metadata": {
        "id": "XxgMVQvlLfpo"
      },
      "execution_count": null,
      "outputs": []
    },
    {
      "cell_type": "code",
      "source": [
        "import numpy as np\n",
        "import pandas as pd\n",
        "import matplotlib.pyplot as plt\n",
        "from tensorflow.keras.models import Sequential\n",
        "from tensorflow.keras.layers import Conv2D, MaxPool2D, Dense, Flatten, Dropout\n",
        "from tensorflow.keras.optimizers import Adam\n",
        "from tensorflow.keras.callbacks import EarlyStopping, ReduceLROnPlateau, ModelCheckpoint\n",
        "from tensorflow.keras.preprocessing.image import ImageDataGenerator"
      ],
      "metadata": {
        "id": "2IRD-ccoLo7I"
      },
      "execution_count": null,
      "outputs": []
    },
    {
      "cell_type": "code",
      "source": [
        "data_gen = ImageDataGenerator(rescale=1./255.)"
      ],
      "metadata": {
        "id": "lyNJPO8-TD4l"
      },
      "execution_count": null,
      "outputs": []
    },
    {
      "cell_type": "code",
      "source": [
        "train = data_gen.flow_from_directory(\n",
        "    'chest_xray/train', target_size=(64, 64), color_mode='grayscale', class_mode='binary', batch_size=200\n",
        "    )"
      ],
      "metadata": {
        "colab": {
          "base_uri": "https://localhost:8080/"
        },
        "id": "zriVnXlbTXWq",
        "outputId": "d24092b2-b808-415c-c2d5-c3169f5780cd"
      },
      "execution_count": null,
      "outputs": [
        {
          "output_type": "stream",
          "name": "stdout",
          "text": [
            "Found 5216 images belonging to 2 classes.\n"
          ]
        }
      ]
    },
    {
      "cell_type": "code",
      "source": [
        "test = data_gen.flow_from_directory(\n",
        "    'chest_xray/test', target_size=(64, 64), color_mode='grayscale', class_mode='binary', batch_size=200\n",
        "    )"
      ],
      "metadata": {
        "colab": {
          "base_uri": "https://localhost:8080/"
        },
        "id": "4XXyM3XBUTny",
        "outputId": "080a891d-f894-4c9a-b37f-b17aeb8cd63d"
      },
      "execution_count": null,
      "outputs": [
        {
          "output_type": "stream",
          "name": "stdout",
          "text": [
            "Found 624 images belonging to 2 classes.\n"
          ]
        }
      ]
    },
    {
      "cell_type": "code",
      "source": [
        "val = data_gen.flow_from_directory(\n",
        "    'chest_xray/val', target_size=(64, 64), color_mode='grayscale', class_mode='binary'\n",
        "    )"
      ],
      "metadata": {
        "colab": {
          "base_uri": "https://localhost:8080/"
        },
        "id": "hdq553wkUl-z",
        "outputId": "c9523c78-2f7b-4d1e-f43f-6357473c7be1"
      },
      "execution_count": null,
      "outputs": [
        {
          "output_type": "stream",
          "name": "stdout",
          "text": [
            "Found 16 images belonging to 2 classes.\n"
          ]
        }
      ]
    },
    {
      "cell_type": "code",
      "source": [
        "model = Sequential([\n",
        "                    Conv2D(32, (7, 7), input_shape=(64, 64, 1), activation='relu'),\n",
        "                    MaxPool2D(),\n",
        "                    Conv2D(32, (3, 3), activation='relu'),\n",
        "                    MaxPool2D(),\n",
        "                    Conv2D(64, (3, 3), activation='relu'),\n",
        "                    MaxPool2D(),\n",
        "                    Conv2D(128, (3, 3), activation='relu'),\n",
        "                    MaxPool2D(),\n",
        "                    Flatten(),\n",
        "                    Dense(128, activation='relu'),\n",
        "                    Dense(1, activation='sigmoid')\n",
        "\n",
        "])"
      ],
      "metadata": {
        "id": "PqF333ZLUrVK"
      },
      "execution_count": null,
      "outputs": []
    },
    {
      "cell_type": "code",
      "source": [
        "model.summary()"
      ],
      "metadata": {
        "colab": {
          "base_uri": "https://localhost:8080/"
        },
        "id": "VBxoDqWAWV3n",
        "outputId": "6fa52a95-479c-49f0-c60e-48e8713a6c7c"
      },
      "execution_count": null,
      "outputs": [
        {
          "output_type": "stream",
          "name": "stdout",
          "text": [
            "Model: \"sequential_10\"\n",
            "_________________________________________________________________\n",
            " Layer (type)                Output Shape              Param #   \n",
            "=================================================================\n",
            " conv2d_34 (Conv2D)          (None, 58, 58, 32)        1600      \n",
            "                                                                 \n",
            " max_pooling2d_34 (MaxPoolin  (None, 29, 29, 32)       0         \n",
            " g2D)                                                            \n",
            "                                                                 \n",
            " conv2d_35 (Conv2D)          (None, 27, 27, 32)        9248      \n",
            "                                                                 \n",
            " max_pooling2d_35 (MaxPoolin  (None, 13, 13, 32)       0         \n",
            " g2D)                                                            \n",
            "                                                                 \n",
            " conv2d_36 (Conv2D)          (None, 11, 11, 64)        18496     \n",
            "                                                                 \n",
            " max_pooling2d_36 (MaxPoolin  (None, 5, 5, 64)         0         \n",
            " g2D)                                                            \n",
            "                                                                 \n",
            " conv2d_37 (Conv2D)          (None, 3, 3, 128)         73856     \n",
            "                                                                 \n",
            " max_pooling2d_37 (MaxPoolin  (None, 1, 1, 128)        0         \n",
            " g2D)                                                            \n",
            "                                                                 \n",
            " flatten_10 (Flatten)        (None, 128)               0         \n",
            "                                                                 \n",
            " dense_20 (Dense)            (None, 128)               16512     \n",
            "                                                                 \n",
            " dense_21 (Dense)            (None, 1)                 129       \n",
            "                                                                 \n",
            "=================================================================\n",
            "Total params: 119,841\n",
            "Trainable params: 119,841\n",
            "Non-trainable params: 0\n",
            "_________________________________________________________________\n"
          ]
        }
      ]
    },
    {
      "cell_type": "code",
      "source": [
        "es = EarlyStopping(monitor='val_loss', patience=10, mode='min')\n",
        "r = ReduceLROnPlateau(monitor='val_loss', patience=3, factor=0.2, min_lr=0.00001)\n",
        "check = ModelCheckpoint('chest.h5', monitor='val_loss', mode='min', save_best_only=True)"
      ],
      "metadata": {
        "id": "iOztZZsiWt2N"
      },
      "execution_count": null,
      "outputs": []
    },
    {
      "cell_type": "code",
      "source": [
        "model.compile(Adam(), loss='binary_crossentropy', metrics=['accuracy'])"
      ],
      "metadata": {
        "id": "-NYW_06klcPV"
      },
      "execution_count": null,
      "outputs": []
    },
    {
      "cell_type": "code",
      "source": [
        "history = model.fit(train, steps_per_epoch=len(train), validation_data=test, validation_steps=len(test), epochs=30, callbacks=[es, r, check])"
      ],
      "metadata": {
        "colab": {
          "base_uri": "https://localhost:8080/"
        },
        "id": "CuZFbQFVlzl_",
        "outputId": "09578df2-3d4f-4e45-c598-40eb1e5febad"
      },
      "execution_count": null,
      "outputs": [
        {
          "output_type": "stream",
          "name": "stdout",
          "text": [
            "Epoch 1/30\n",
            "27/27 [==============================] - 47s 2s/step - loss: 0.5907 - accuracy: 0.7241 - val_loss: 0.7162 - val_accuracy: 0.6250 - lr: 0.0010\n",
            "Epoch 2/30\n",
            "27/27 [==============================] - 45s 2s/step - loss: 0.5544 - accuracy: 0.7429 - val_loss: 0.6273 - val_accuracy: 0.6250 - lr: 0.0010\n",
            "Epoch 3/30\n",
            "27/27 [==============================] - 45s 2s/step - loss: 0.4613 - accuracy: 0.7715 - val_loss: 0.4424 - val_accuracy: 0.8061 - lr: 0.0010\n",
            "Epoch 4/30\n",
            "27/27 [==============================] - 44s 2s/step - loss: 0.3421 - accuracy: 0.8462 - val_loss: 0.3880 - val_accuracy: 0.8253 - lr: 0.0010\n",
            "Epoch 5/30\n",
            "27/27 [==============================] - 45s 2s/step - loss: 0.2936 - accuracy: 0.8727 - val_loss: 0.3707 - val_accuracy: 0.8221 - lr: 0.0010\n",
            "Epoch 6/30\n",
            "27/27 [==============================] - 44s 2s/step - loss: 0.2535 - accuracy: 0.8911 - val_loss: 0.4061 - val_accuracy: 0.8189 - lr: 0.0010\n",
            "Epoch 7/30\n",
            "27/27 [==============================] - 45s 2s/step - loss: 0.2325 - accuracy: 0.9015 - val_loss: 0.3492 - val_accuracy: 0.8349 - lr: 0.0010\n",
            "Epoch 8/30\n",
            "27/27 [==============================] - 45s 2s/step - loss: 0.2356 - accuracy: 0.9061 - val_loss: 0.6371 - val_accuracy: 0.7083 - lr: 0.0010\n",
            "Epoch 9/30\n",
            "27/27 [==============================] - 45s 2s/step - loss: 0.2210 - accuracy: 0.9072 - val_loss: 0.6450 - val_accuracy: 0.7260 - lr: 0.0010\n",
            "Epoch 10/30\n",
            "27/27 [==============================] - 45s 2s/step - loss: 0.1806 - accuracy: 0.9279 - val_loss: 0.3536 - val_accuracy: 0.8381 - lr: 0.0010\n",
            "Epoch 11/30\n",
            "27/27 [==============================] - 45s 2s/step - loss: 0.1685 - accuracy: 0.9323 - val_loss: 0.4018 - val_accuracy: 0.8109 - lr: 2.0000e-04\n",
            "Epoch 12/30\n",
            "27/27 [==============================] - 45s 2s/step - loss: 0.1624 - accuracy: 0.9365 - val_loss: 0.5527 - val_accuracy: 0.7804 - lr: 2.0000e-04\n",
            "Epoch 13/30\n",
            "27/27 [==============================] - 45s 2s/step - loss: 0.1504 - accuracy: 0.9421 - val_loss: 0.6103 - val_accuracy: 0.7644 - lr: 2.0000e-04\n",
            "Epoch 14/30\n",
            "27/27 [==============================] - 45s 2s/step - loss: 0.1443 - accuracy: 0.9436 - val_loss: 0.5331 - val_accuracy: 0.7853 - lr: 4.0000e-05\n",
            "Epoch 15/30\n",
            "27/27 [==============================] - 45s 2s/step - loss: 0.1393 - accuracy: 0.9465 - val_loss: 0.4741 - val_accuracy: 0.8029 - lr: 4.0000e-05\n",
            "Epoch 16/30\n",
            "27/27 [==============================] - 45s 2s/step - loss: 0.1393 - accuracy: 0.9482 - val_loss: 0.5533 - val_accuracy: 0.7804 - lr: 4.0000e-05\n",
            "Epoch 17/30\n",
            "27/27 [==============================] - 45s 2s/step - loss: 0.1377 - accuracy: 0.9484 - val_loss: 0.5253 - val_accuracy: 0.7821 - lr: 1.0000e-05\n"
          ]
        }
      ]
    },
    {
      "cell_type": "code",
      "source": [
        "plt.plot(history.history['val_accuracy'], color='r')\n",
        "plt.plot(history.history['val_loss'], color='b')"
      ],
      "metadata": {
        "colab": {
          "base_uri": "https://localhost:8080/",
          "height": 282
        },
        "id": "rGLwZ4SvmVL8",
        "outputId": "fb555673-f214-4c57-d6e5-c5437a38e7e8"
      },
      "execution_count": null,
      "outputs": [
        {
          "output_type": "execute_result",
          "data": {
            "text/plain": [
              "[<matplotlib.lines.Line2D at 0x7fa5ee729a90>]"
            ]
          },
          "metadata": {},
          "execution_count": 50
        },
        {
          "output_type": "display_data",
          "data": {
            "image/png": "[encoded data removed]",
            "text/plain": [
              "<Figure size 432x288 with 1 Axes>"
            ]
          },
          "metadata": {
            "needs_background": "light"
          }
        }
      ]
    },
    {
      "cell_type": "code",
      "source": [
        ""
      ],
      "metadata": {
        "id": "MzMzxZnlwYA5"
      },
      "execution_count": null,
      "outputs": []
    }
  ]
}